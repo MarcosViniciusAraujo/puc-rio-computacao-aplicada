{
 "cells": [
  {
   "cell_type": "code",
   "execution_count": 2,
   "metadata": {},
   "outputs": [],
   "source": [
    "import pandas as pd\n",
    "import numpy as np\n",
    "import os"
   ]
  },
  {
   "cell_type": "markdown",
   "metadata": {},
   "source": [
    "## Tratamento da base"
   ]
  },
  {
   "cell_type": "code",
   "execution_count": 21,
   "metadata": {},
   "outputs": [
    {
     "data": {
      "text/plain": [
       "0              LC-39A, Kennedy Space Center, Florida, USA\n",
       "1       Site 9401 (SLS-2), Jiuquan Satellite Launch Ce...\n",
       "2                           Pad A, Boca Chica, Texas, USA\n",
       "3            Site 200/39, Baikonur Cosmodrome, Kazakhstan\n",
       "4                SLC-41, Cape Canaveral AFS, Florida, USA\n",
       "                              ...                        \n",
       "4208               LC-5, Cape Canaveral AFS, Florida, USA\n",
       "4277             LC-18A, Cape Canaveral AFS, Florida, USA\n",
       "4293              LC-11, Cape Canaveral AFS, Florida, USA\n",
       "4302    Douglas F4D Skyray, Naval Air Station Point Mu...\n",
       "4318             LC-26A, Cape Canaveral AFS, Florida, USA\n",
       "Name: location, Length: 137, dtype: object"
      ]
     },
     "execution_count": 21,
     "metadata": {},
     "output_type": "execute_result"
    }
   ],
   "source": [
    "\n",
    "from asyncio import selector_events\n",
    "\n",
    "\n",
    "raw = pd.read_csv('Space_Corrected.csv')\n",
    "\n",
    "raw.drop(columns=['Unnamed: 0.1', 'Unnamed: 0'], inplace=True)\n",
    "\n",
    "df_renamed = raw.rename(columns={\n",
    "    \"Company Name\" : \"company_name\",\n",
    "    \"Location\":\"location\",\n",
    "    \"Datum\":\"datum\",\n",
    "    \"Detail\": \"detail\",\n",
    "    \"Status Rocket\": \"status_rocket\",\n",
    "    \" Rocket\": \"rocket\",\n",
    "    \"Status Mission\": \"status_mission\"\n",
    "})\n",
    "\n",
    "select_distinct = df_renamed.location.drop_duplicates()\n",
    "\n",
    "select_distinct"
   ]
  }
 ],
 "metadata": {
  "kernelspec": {
   "display_name": "Python 3.10.7 64-bit (microsoft store)",
   "language": "python",
   "name": "python3"
  },
  "language_info": {
   "codemirror_mode": {
    "name": "ipython",
    "version": 3
   },
   "file_extension": ".py",
   "mimetype": "text/x-python",
   "name": "python",
   "nbconvert_exporter": "python",
   "pygments_lexer": "ipython3",
   "version": "3.10.7"
  },
  "orig_nbformat": 4,
  "vscode": {
   "interpreter": {
    "hash": "fe4d3f4c05f2c883158edf770b9077c24343565c211ea6cbc9a05047856726ec"
   }
  }
 },
 "nbformat": 4,
 "nbformat_minor": 2
}
