{
 "cells": [
  {
   "cell_type": "markdown",
   "metadata": {},
   "source": [
    "# CARROS"
   ]
  },
  {
   "cell_type": "code",
   "execution_count": 2,
   "metadata": {},
   "outputs": [],
   "source": [
    "import pandas as pd\n",
    "import matplotlib.pyplot as plt"
   ]
  },
  {
   "cell_type": "markdown",
   "metadata": {},
   "source": [
    "### **Dados**"
   ]
  },
  {
   "cell_type": "code",
   "execution_count": 6,
   "metadata": {},
   "outputs": [],
   "source": [
    "srQtdMultas= pd.read_excel('../db/carros20221.xlsx', usecols=(0,1), index_col=0, header=0) \\\n",
    "    .squeeze('columns')\n",
    "\n",
    "srFab= pd.read_excel('../db/carros20221.xlsx', usecols=(0,2), index_col=0, header=0) \\\n",
    "    .squeeze('columns')"
   ]
  },
  {
   "cell_type": "markdown",
   "metadata": {},
   "source": [
    "### **Exploração** "
   ]
  },
  {
   "cell_type": "code",
   "execution_count": 8,
   "metadata": {},
   "outputs": [
    {
     "name": "stdout",
     "output_type": "stream",
     "text": [
      "\n",
      "Quantidade de Multas:\n",
      "PLACA\n",
      "XAB1111     5\n",
      "NOS2222     3\n",
      "ABC1345    10\n",
      "ZXT1010    20\n",
      "KLM2323     2\n",
      "XAB1112    13\n",
      "NOS2233     1\n",
      "ABC1444    18\n",
      "ZXT1777    34\n",
      "KLM2345    20\n",
      "ZXT1019     3\n",
      "KLM2329     2\n",
      "XAB1119     2\n",
      "NOS2239     1\n",
      "ABC1449     4\n",
      "ZXT1779     3\n",
      "KLM2349     2\n",
      "Name: QTDMULTAS, dtype: int64\n"
     ]
    }
   ],
   "source": [
    "print('\\nQuantidade de Multas:')\n",
    "print(srQtdMultas)\n"
   ]
  },
  {
   "cell_type": "code",
   "execution_count": 9,
   "metadata": {},
   "outputs": [
    {
     "name": "stdout",
     "output_type": "stream",
     "text": [
      "\n",
      "Fabricantes:\n",
      "PLACA\n",
      "XAB1111      FORD\n",
      "NOS2222    NISSAN\n",
      "ABC1345    TOYOTA\n",
      "ZXT1010        WV\n",
      "KLM2323      FORD\n",
      "XAB1112    NISSAN\n",
      "NOS2233    TOYOTA\n",
      "ABC1444        WV\n",
      "ZXT1777    NISSAN\n",
      "KLM2345    TOYOTA\n",
      "ZXT1019    TOYOTA\n",
      "KLM2329        WV\n",
      "XAB1119      FORD\n",
      "NOS2239    NISSAN\n",
      "ABC1449      FORD\n",
      "ZXT1779    NISSAN\n",
      "KLM2349      FORD\n",
      "Name: MARCA, dtype: object\n"
     ]
    }
   ],
   "source": [
    "print('\\nFabricantes:')\n",
    "print(srFab)"
   ]
  },
  {
   "cell_type": "code",
   "execution_count": 14,
   "metadata": {},
   "outputs": [
    {
     "data": {
      "text/plain": [
       "PLACA\n",
       "ZXT1777    34\n",
       "ZXT1010    20\n",
       "KLM2345    20\n",
       "ABC1444    18\n",
       "XAB1112    13\n",
       "Name: QTDMULTAS, dtype: int64"
      ]
     },
     "execution_count": 14,
     "metadata": {},
     "output_type": "execute_result"
    }
   ],
   "source": [
    "# Exiba os 5 veículos com maior quantidade de multas\n",
    "\n",
    "srQtdMultas \\\n",
    "    .sort_values(ascending=False) \\\n",
    "    .head(5)"
   ]
  },
  {
   "cell_type": "code",
   "execution_count": 15,
   "metadata": {},
   "outputs": [
    {
     "data": {
      "text/plain": [
       "FORD      5\n",
       "NISSAN    5\n",
       "TOYOTA    4\n",
       "WV        3\n",
       "Name: MARCA, dtype: int64"
      ]
     },
     "execution_count": 15,
     "metadata": {},
     "output_type": "execute_result"
    }
   ],
   "source": [
    "# Exiba a tabela de frequencia dos fabricantes\n",
    "\n",
    "srFab.value_counts()"
   ]
  },
  {
   "cell_type": "code",
   "execution_count": 19,
   "metadata": {},
   "outputs": [
    {
     "name": "stdout",
     "output_type": "stream",
     "text": [
      "NOS2233 1\n"
     ]
    }
   ],
   "source": [
    "# Exiba a menor quantidade de multa e um carro com a menor quantidade de  multas\n",
    "\n",
    "print(\n",
    "    srQtdMultas.idxmin(),\n",
    "    srQtdMultas.min()\n",
    ")"
   ]
  },
  {
   "cell_type": "code",
   "execution_count": 20,
   "metadata": {},
   "outputs": [
    {
     "data": {
      "text/plain": [
       "PLACA\n",
       "XAB1111      FORD\n",
       "ABC1449      FORD\n",
       "XAB1119      FORD\n",
       "KLM2323      FORD\n",
       "KLM2349      FORD\n",
       "XAB1112    NISSAN\n",
       "ZXT1779    NISSAN\n",
       "NOS2239    NISSAN\n",
       "NOS2222    NISSAN\n",
       "ZXT1777    NISSAN\n",
       "NOS2233    TOYOTA\n",
       "KLM2345    TOYOTA\n",
       "ZXT1019    TOYOTA\n",
       "ABC1345    TOYOTA\n",
       "ABC1444        WV\n",
       "KLM2329        WV\n",
       "ZXT1010        WV\n",
       "Name: MARCA, dtype: object"
      ]
     },
     "execution_count": 20,
     "metadata": {},
     "output_type": "execute_result"
    }
   ],
   "source": [
    "# Exiba a srFab ordenada alfabeticamente por fabricante\n",
    "\n",
    "srFab.sort_values()"
   ]
  },
  {
   "cell_type": "code",
   "execution_count": 24,
   "metadata": {},
   "outputs": [
    {
     "data": {
      "text/plain": [
       "PLACA\n",
       "XAB1111    FRQUENTES\n",
       "NOS2222       POUCAS\n",
       "ABC1345    FRQUENTES\n",
       "ZXT1010       MUITAS\n",
       "KLM2323       POUCAS\n",
       "XAB1112    FRQUENTES\n",
       "NOS2233       POUCAS\n",
       "ABC1444       MUITAS\n",
       "ZXT1777     ABSURDAS\n",
       "KLM2345       MUITAS\n",
       "ZXT1019       POUCAS\n",
       "KLM2329       POUCAS\n",
       "XAB1119       POUCAS\n",
       "NOS2239       POUCAS\n",
       "ABC1449       POUCAS\n",
       "ZXT1779       POUCAS\n",
       "KLM2349       POUCAS\n",
       "Name: QTDMULTAS, dtype: category\n",
       "Categories (4, object): ['POUCAS' < 'FRQUENTES' < 'MUITAS' < 'ABSURDAS']"
      ]
     },
     "execution_count": 24,
     "metadata": {},
     "output_type": "execute_result"
    }
   ],
   "source": [
    "# A partir da srQtdMultas crie a srCatQtMultas considerando 4 faixas de multas:\n",
    "# de 0 até 4: POUCAS,\n",
    "# de 5 até 15: FREQUENTES , \n",
    "# de 16 até 25: MUITAS, \n",
    "# acima de 25: ABSURDAS\n",
    "\n",
    "\n",
    "srCatMultas = pd.cut(srQtdMultas, \n",
    "                        bins=[0, 4, 15, 25, srQtdMultas.max()], \n",
    "                        right=True,\n",
    "                        include_lowest=True,\n",
    "                        labels=['POUCAS', 'FRQUENTES', 'MUITAS', 'ABSURDAS']\n",
    "                    )\n",
    "\n",
    "srCatMultas"
   ]
  },
  {
   "cell_type": "code",
   "execution_count": 27,
   "metadata": {},
   "outputs": [
    {
     "data": {
      "text/plain": [
       "POUCAS       10\n",
       "FRQUENTES     3\n",
       "MUITAS        3\n",
       "ABSURDAS      1\n",
       "Name: QTDMULTAS, dtype: int64"
      ]
     },
     "execution_count": 27,
     "metadata": {},
     "output_type": "execute_result"
    }
   ],
   "source": [
    "srCatMultasFreq = srCatMultas.value_counts()\n",
    "srCatMultasFreq"
   ]
  },
  {
   "cell_type": "code",
   "execution_count": 28,
   "metadata": {},
   "outputs": [
    {
     "data": {
      "image/png": "[encoded data removed]",
      "text/plain": [
       "<Figure size 432x288 with 1 Axes>"
      ]
     },
     "metadata": {},
     "output_type": "display_data"
    }
   ],
   "source": [
    "srCatMultasFreq.plot.pie(\n",
    "    title=\"Gravidades de Multas\",\n",
    "\n",
    ")\n",
    "\n",
    "plt.show()"
   ]
  },
  {
   "cell_type": "code",
   "execution_count": 32,
   "metadata": {},
   "outputs": [
    {
     "data": {
      "text/plain": [
       "'WV'"
      ]
     },
     "execution_count": 32,
     "metadata": {},
     "output_type": "execute_result"
    }
   ],
   "source": [
    "#Qual o fabricante com o menor numero de veiculos?\n",
    "\n",
    "srFab.value_counts().idxmin()"
   ]
  },
  {
   "cell_type": "code",
   "execution_count": 33,
   "metadata": {},
   "outputs": [
    {
     "data": {
      "text/plain": [
       "143"
      ]
     },
     "execution_count": 33,
     "metadata": {},
     "output_type": "execute_result"
    }
   ],
   "source": [
    "#Qual o total de multas no período considerado?\n",
    "srQtdMultas.sum()"
   ]
  },
  {
   "cell_type": "code",
   "execution_count": 47,
   "metadata": {},
   "outputs": [
    {
     "data": {
      "text/plain": [
       "array(['FORD', 'NISSAN', 'TOYOTA', 'WV'], dtype=object)"
      ]
     },
     "execution_count": 47,
     "metadata": {},
     "output_type": "execute_result"
    }
   ],
   "source": [
    "#Exiba a relacao de fabricantes distintos\n",
    "srFab.unique()"
   ]
  },
  {
   "cell_type": "code",
   "execution_count": 48,
   "metadata": {},
   "outputs": [
    {
     "data": {
      "text/plain": [
       "4"
      ]
     },
     "execution_count": 48,
     "metadata": {},
     "output_type": "execute_result"
    }
   ],
   "source": [
    "#Quantos são os fabricantes distintos?\n",
    "srFab.unique().size"
   ]
  },
  {
   "cell_type": "code",
   "execution_count": 51,
   "metadata": {},
   "outputs": [
    {
     "data": {
      "image/png": "[encoded data removed]",
      "text/plain": [
       "<Figure size 432x288 with 1 Axes>"
      ]
     },
     "metadata": {
      "needs_background": "light"
     },
     "output_type": "display_data"
    }
   ],
   "source": [
    "#Grafico de barras da srMultas\n",
    "srQtdMultas.plot.bar()\n",
    "plt.show()"
   ]
  },
  {
   "cell_type": "code",
   "execution_count": 54,
   "metadata": {},
   "outputs": [
    {
     "data": {
      "image/png": "[encoded data removed]",
      "text/plain": [
       "<Figure size 432x288 with 1 Axes>"
      ]
     },
     "metadata": {},
     "output_type": "display_data"
    }
   ],
   "source": [
    "srFab.value_counts().plot.pie(\n",
    "    title=\"Fabricantes\"\n",
    ")\n",
    "\n",
    "plt.show()"
   ]
  }
 ],
 "metadata": {
  "kernelspec": {
   "display_name": "Python 3.10.7 64-bit (microsoft store)",
   "language": "python",
   "name": "python3"
  },
  "language_info": {
   "codemirror_mode": {
    "name": "ipython",
    "version": 3
   },
   "file_extension": ".py",
   "mimetype": "text/x-python",
   "name": "python",
   "nbconvert_exporter": "python",
   "pygments_lexer": "ipython3",
   "version": "3.10.7"
  },
  "orig_nbformat": 4,
  "vscode": {
   "interpreter": {
    "hash": "fe4d3f4c05f2c883158edf770b9077c24343565c211ea6cbc9a05047856726ec"
   }
  }
 },
 "nbformat": 4,
 "nbformat_minor": 2
}
