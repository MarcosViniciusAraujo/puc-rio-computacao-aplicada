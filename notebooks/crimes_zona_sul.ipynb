{
 "cells": [
  {
   "cell_type": "markdown",
   "metadata": {},
   "source": [
    "# Análise Crimes Zona sul\n",
    "\n",
    "Series:  aplicação de função, filtros, valores ausentes (descarte/preenchimento), agrupamento, agregação de medidas\n",
    "\n"
   ]
  },
  {
   "cell_type": "code",
   "execution_count": 1,
   "metadata": {},
   "outputs": [],
   "source": [
    "import pandas as pd\n",
    "import matplotlib.pyplot as plt"
   ]
  },
  {
   "cell_type": "markdown",
   "metadata": {},
   "source": [
    "> No arquivo crimeszs.xlsx encontram-se registrados os crimes cometidos na zona sul na ultima sexta-feira. Cada linha tem: bairro onde foi cometido o crime e tipo do crime cometido\n"
   ]
  },
  {
   "cell_type": "code",
   "execution_count": 2,
   "metadata": {},
   "outputs": [
    {
     "data": {
      "text/plain": [
       "BAIRRO\n",
       "BOTAFOGO          ROUBO\n",
       "COPACABANA    HOMICIDIO\n",
       "COPACABANA        FURTO\n",
       "LEBLON            ROUBO\n",
       "IPANEMA           ROUBO\n",
       "BOTAFOGO       AGRESSAO\n",
       "BOTAFOGO          FURTO\n",
       "LEBLON            ROUBO\n",
       "IPANEMA           ROUBO\n",
       "GAVEA             ROUBO\n",
       "BOTAFOGO          FURTO\n",
       "GAVEA             ROUBO\n",
       "COPACABANA        ROUBO\n",
       "COPACABANA    HOMICIDIO\n",
       "BOTAFOGO            NaN\n",
       "COPACABANA      ESTUPRO\n",
       "LEBLON        SEQUESTRO\n",
       "BOTAFOGO          FURTO\n",
       "BOTAFOGO       AGRESSAO\n",
       "IPANEMA       SEQUESTRO\n",
       "FLAMENGO       AGRESSAO\n",
       "IPANEMA           ROUBO\n",
       "FLAMENGO          ROUBO\n",
       "GAVEA         HOMICIDIO\n",
       "BOTAFOGO          ROUBO\n",
       "BOTAFOGO          FURTO\n",
       "BOTAFOGO          FURTO\n",
       "IPANEMA           FURTO\n",
       "FLAMENGO          FURTO\n",
       "LEBLON        SEQUESTRO\n",
       "BOTAFOGO          ROUBO\n",
       "FLAMENGO          FURTO\n",
       "FLAMENGO          FURTO\n",
       "COPACABANA        ROUBO\n",
       "COPACABANA        FURTO\n",
       "COPACABANA    HOMICIDIO\n",
       "COPACABANA        ROUBO\n",
       "COPACABANA     AGRESSAO\n",
       "IPANEMA       HOMICIDIO\n",
       "FLAMENGO          FURTO\n",
       "FLAMENGO          ROUBO\n",
       "COPACABANA        FURTO\n",
       "COPACABANA     AGRESSAO\n",
       "LAGOA         SEQUESTRO\n",
       "GAVEA         HOMICIDIO\n",
       "FLAMENGO          FURTO\n",
       "FLAMENGO          FURTO\n",
       "COPACABANA          NaN\n",
       "FLAMENGO          FURTO\n",
       "LAGOA             ROUBO\n",
       "GAVEA         SEQUESTRO\n",
       "GAVEA         HOMICIDIO\n",
       "Name: CRIME, dtype: object"
      ]
     },
     "execution_count": 2,
     "metadata": {},
     "output_type": "execute_result"
    }
   ],
   "source": [
    "# Criação das series \n",
    "\n",
    "srCrimes = pd.read_excel('../db/crimeszs.xlsx', index_col=0, header=0).squeeze('columns')\n",
    "\n",
    "srCrimes\n"
   ]
  },
  {
   "cell_type": "code",
   "execution_count": 3,
   "metadata": {},
   "outputs": [
    {
     "data": {
      "text/plain": [
       "BAIRRO\n",
       "BOTAFOGO                 ROUBO\n",
       "COPACABANA           HOMICIDIO\n",
       "COPACABANA               FURTO\n",
       "LEBLON                   ROUBO\n",
       "IPANEMA                  ROUBO\n",
       "BOTAFOGO              AGRESSAO\n",
       "BOTAFOGO                 FURTO\n",
       "LEBLON                   ROUBO\n",
       "IPANEMA                  ROUBO\n",
       "GAVEA                    ROUBO\n",
       "BOTAFOGO                 FURTO\n",
       "GAVEA                    ROUBO\n",
       "COPACABANA               ROUBO\n",
       "COPACABANA           HOMICIDIO\n",
       "BOTAFOGO      NÃO ESPECIFICADO\n",
       "COPACABANA             ESTUPRO\n",
       "LEBLON               SEQUESTRO\n",
       "BOTAFOGO                 FURTO\n",
       "BOTAFOGO              AGRESSAO\n",
       "IPANEMA              SEQUESTRO\n",
       "FLAMENGO              AGRESSAO\n",
       "IPANEMA                  ROUBO\n",
       "FLAMENGO                 ROUBO\n",
       "GAVEA                HOMICIDIO\n",
       "BOTAFOGO                 ROUBO\n",
       "BOTAFOGO                 FURTO\n",
       "BOTAFOGO                 FURTO\n",
       "IPANEMA                  FURTO\n",
       "FLAMENGO                 FURTO\n",
       "LEBLON               SEQUESTRO\n",
       "BOTAFOGO                 ROUBO\n",
       "FLAMENGO                 FURTO\n",
       "FLAMENGO                 FURTO\n",
       "COPACABANA               ROUBO\n",
       "COPACABANA               FURTO\n",
       "COPACABANA           HOMICIDIO\n",
       "COPACABANA               ROUBO\n",
       "COPACABANA            AGRESSAO\n",
       "IPANEMA              HOMICIDIO\n",
       "FLAMENGO                 FURTO\n",
       "FLAMENGO                 ROUBO\n",
       "COPACABANA               FURTO\n",
       "COPACABANA            AGRESSAO\n",
       "LAGOA                SEQUESTRO\n",
       "GAVEA                HOMICIDIO\n",
       "FLAMENGO                 FURTO\n",
       "FLAMENGO                 FURTO\n",
       "COPACABANA    NÃO ESPECIFICADO\n",
       "FLAMENGO                 FURTO\n",
       "LAGOA                    ROUBO\n",
       "GAVEA                SEQUESTRO\n",
       "GAVEA                HOMICIDIO\n",
       "Name: CRIME, dtype: object"
      ]
     },
     "execution_count": 3,
     "metadata": {},
     "output_type": "execute_result"
    }
   ],
   "source": [
    "# Preenchendo com NaN\n",
    "\n",
    "srCrimes.fillna('NÃO ESPECIFICADO', inplace=True)\n",
    "\n",
    "srCrimes"
   ]
  },
  {
   "cell_type": "code",
   "execution_count": 4,
   "metadata": {},
   "outputs": [
    {
     "data": {
      "text/plain": [
       "52"
      ]
     },
     "execution_count": 4,
     "metadata": {},
     "output_type": "execute_result"
    }
   ],
   "source": [
    "# Numero de crimes \n",
    "\n",
    "srCrimes.size"
   ]
  },
  {
   "cell_type": "code",
   "execution_count": 5,
   "metadata": {},
   "outputs": [
    {
     "data": {
      "text/plain": [
       "ROUBO               16\n",
       "FURTO               16\n",
       "HOMICIDIO            7\n",
       "AGRESSAO             5\n",
       "SEQUESTRO            5\n",
       "NÃO ESPECIFICADO     2\n",
       "ESTUPRO              1\n",
       "Name: CRIME, dtype: int64"
      ]
     },
     "execution_count": 5,
     "metadata": {},
     "output_type": "execute_result"
    }
   ],
   "source": [
    "freqCrimes = srCrimes.value_counts()\n",
    "\n",
    "freqCrimes"
   ]
  },
  {
   "cell_type": "code",
   "execution_count": 6,
   "metadata": {},
   "outputs": [
    {
     "data": {
      "text/plain": [
       "ROUBO               30.769231\n",
       "FURTO               30.769231\n",
       "HOMICIDIO           13.461538\n",
       "AGRESSAO             9.615385\n",
       "SEQUESTRO            9.615385\n",
       "NÃO ESPECIFICADO     3.846154\n",
       "ESTUPRO              1.923077\n",
       "Name: CRIME, dtype: float64"
      ]
     },
     "execution_count": 6,
     "metadata": {},
     "output_type": "execute_result"
    }
   ],
   "source": [
    "# tabela de frequencias relativa (quatidade de crimes em relação ao total)\n",
    "\n",
    "freqCrimesRel = srCrimes.value_counts(normalize=True) * 100\n",
    "\n",
    "freqCrimesRel"
   ]
  },
  {
   "cell_type": "code",
   "execution_count": 7,
   "metadata": {},
   "outputs": [
    {
     "data": {
      "text/plain": [
       "ROUBO               30.77%\n",
       "FURTO               30.77%\n",
       "HOMICIDIO           13.46%\n",
       "AGRESSAO             9.62%\n",
       "SEQUESTRO            9.62%\n",
       "NÃO ESPECIFICADO     3.85%\n",
       "ESTUPRO              1.92%\n",
       "Name: CRIME, dtype: object"
      ]
     },
     "execution_count": 7,
     "metadata": {},
     "output_type": "execute_result"
    }
   ],
   "source": [
    "# formatando o dado \n",
    "\n",
    "freqCrimesRealFormated = freqCrimesRel.apply(\"{:,.2f}%\".format)\n",
    "\n",
    "freqCrimesRealFormated"
   ]
  },
  {
   "cell_type": "code",
   "execution_count": 8,
   "metadata": {},
   "outputs": [
    {
     "data": {
      "text/plain": [
       "'ROUBO'"
      ]
     },
     "execution_count": 8,
     "metadata": {},
     "output_type": "execute_result"
    }
   ],
   "source": [
    "freqCrimes.idxmax()"
   ]
  },
  {
   "cell_type": "code",
   "execution_count": 9,
   "metadata": {},
   "outputs": [
    {
     "data": {
      "text/plain": [
       "16"
      ]
     },
     "execution_count": 9,
     "metadata": {},
     "output_type": "execute_result"
    }
   ],
   "source": [
    "freqCrimes.max()"
   ]
  },
  {
   "cell_type": "code",
   "execution_count": 18,
   "metadata": {},
   "outputs": [
    {
     "data": {
      "text/plain": [
       "3"
      ]
     },
     "execution_count": 18,
     "metadata": {},
     "output_type": "execute_result"
    }
   ],
   "source": [
    "srGavea = srCrimes.GAVEA\n",
    "\n",
    "srGavea.loc[srGavea == 'HOMICIDIO'].size\n"
   ]
  },
  {
   "cell_type": "code",
   "execution_count": 11,
   "metadata": {},
   "outputs": [
    {
     "data": {
      "text/plain": [
       "BAIRRO\n",
       "BOTAFOGO               ROUBO\n",
       "BOTAFOGO            AGRESSAO\n",
       "BOTAFOGO               FURTO\n",
       "BOTAFOGO               FURTO\n",
       "BOTAFOGO    NÃO ESPECIFICADO\n",
       "BOTAFOGO               FURTO\n",
       "BOTAFOGO            AGRESSAO\n",
       "BOTAFOGO               ROUBO\n",
       "BOTAFOGO               FURTO\n",
       "BOTAFOGO               FURTO\n",
       "BOTAFOGO               ROUBO\n",
       "Name: CRIME, dtype: object"
      ]
     },
     "execution_count": 11,
     "metadata": {},
     "output_type": "execute_result"
    }
   ],
   "source": [
    "srBaixoBota = srCrimes.BOTAFOGO\n",
    "\n",
    "srBaixoBota"
   ]
  },
  {
   "cell_type": "code",
   "execution_count": 12,
   "metadata": {},
   "outputs": [
    {
     "data": {
      "text/plain": [
       "'FURTO'"
      ]
     },
     "execution_count": 12,
     "metadata": {},
     "output_type": "execute_result"
    }
   ],
   "source": [
    "srBaixoBota.value_counts().idxmax()"
   ]
  },
  {
   "cell_type": "code",
   "execution_count": 23,
   "metadata": {},
   "outputs": [
    {
     "data": {
      "text/plain": [
       "BAIRRO\n",
       "BOTAFOGO      11\n",
       "COPACABANA    13\n",
       "FLAMENGO      10\n",
       "GAVEA          6\n",
       "IPANEMA        6\n",
       "LAGOA          2\n",
       "LEBLON         4\n",
       "Name: CRIME, dtype: int64"
      ]
     },
     "execution_count": 23,
     "metadata": {},
     "output_type": "execute_result"
    }
   ],
   "source": [
    "srCrimesPorBairro = srCrimes.groupby(level=0).count()\n",
    "\n",
    "srCrimesPorBairro"
   ]
  },
  {
   "cell_type": "code",
   "execution_count": 14,
   "metadata": {},
   "outputs": [
    {
     "data": {
      "text/plain": [
       "BAIRRO\n",
       "COPACABANA    13\n",
       "BOTAFOGO      11\n",
       "FLAMENGO      10\n",
       "Name: CRIME, dtype: int64"
      ]
     },
     "execution_count": 14,
     "metadata": {},
     "output_type": "execute_result"
    }
   ],
   "source": [
    "srCrimesPorBairro.sort_values(ascending=False).head(3)"
   ]
  },
  {
   "cell_type": "code",
   "execution_count": null,
   "metadata": {},
   "outputs": [],
   "source": []
  }
 ],
 "metadata": {
  "kernelspec": {
   "display_name": "Python 3.10.8 64-bit (microsoft store)",
   "language": "python",
   "name": "python3"
  },
  "language_info": {
   "codemirror_mode": {
    "name": "ipython",
    "version": 3
   },
   "file_extension": ".py",
   "mimetype": "text/x-python",
   "name": "python",
   "nbconvert_exporter": "python",
   "pygments_lexer": "ipython3",
   "version": "3.10.8"
  },
  "orig_nbformat": 4,
  "vscode": {
   "interpreter": {
    "hash": "fe4d3f4c05f2c883158edf770b9077c24343565c211ea6cbc9a05047856726ec"
   }
  }
 },
 "nbformat": 4,
 "nbformat_minor": 2
}
