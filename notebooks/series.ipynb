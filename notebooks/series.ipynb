{
 "cells": [
  {
   "cell_type": "markdown",
   "metadata": {},
   "source": [
    "## Revisão de Series para Pandas"
   ]
  },
  {
   "cell_type": "code",
   "execution_count": 1,
   "metadata": {},
   "outputs": [],
   "source": [
    "import pandas as pd\n",
    "import os\n",
    "import matplotlib.pyplot as plt\n"
   ]
  },
  {
   "cell_type": "markdown",
   "metadata": {},
   "source": [
    "\n",
    "**Criando uma series a partir de duas listas** \n",
    "- Uma para valores \n",
    "- Outra para indices"
   ]
  },
  {
   "cell_type": "code",
   "execution_count": 2,
   "metadata": {},
   "outputs": [],
   "source": [
    "lpessoas= [\n",
    "    'tita',\n",
    "    'ludo',\n",
    "    'yuki',\n",
    "    'zeus',\n",
    "    'matt',\n",
    "    'deby',\n",
    "    'dave',\n",
    "    'babi',\n",
    "    'lulu'\n",
    "]\n",
    "\n",
    "\n",
    "lprof= [\n",
    "    'medico',\n",
    "    'professor',\n",
    "    'advogado',\n",
    "    'filosofo',\n",
    "    'professor',\n",
    "    'medico',\n",
    "    'dentista',\n",
    "    'professor',\n",
    "    'fisioterapeuta'\n",
    "]\n",
    "\n",
    "\n",
    "lidades= [45,30,67,37,26,58,43,38,29]"
   ]
  },
  {
   "cell_type": "markdown",
   "metadata": {},
   "source": [
    "------------"
   ]
  },
  {
   "cell_type": "markdown",
   "metadata": {},
   "source": [
    "## Parte 1"
   ]
  },
  {
   "cell_type": "code",
   "execution_count": 3,
   "metadata": {},
   "outputs": [
    {
     "name": "stdout",
     "output_type": "stream",
     "text": [
      "\n",
      " Series:\n",
      "Mesmo tamanho?  True\n"
     ]
    },
    {
     "data": {
      "text/plain": [
       "tita            medico\n",
       "ludo         professor\n",
       "yuki          advogado\n",
       "zeus          filosofo\n",
       "matt         professor\n",
       "deby            medico\n",
       "dave          dentista\n",
       "babi         professor\n",
       "lulu    fisioterapeuta\n",
       "dtype: object"
      ]
     },
     "execution_count": 3,
     "metadata": {},
     "output_type": "execute_result"
    }
   ],
   "source": [
    "srProfissoes= pd.Series(lprof,index = lpessoas)\n",
    "\n",
    "print('\\n Series:')\n",
    "print(\"Mesmo tamanho? \", len(lpessoas) == len(lprof))\n",
    "\n",
    "srProfissoes"
   ]
  },
  {
   "cell_type": "code",
   "execution_count": 4,
   "metadata": {},
   "outputs": [
    {
     "name": "stdout",
     "output_type": "stream",
     "text": [
      "\n",
      " Indice:\n",
      "Index(['tita', 'ludo', 'yuki', 'zeus', 'matt', 'deby', 'dave', 'babi', 'lulu'], dtype='object')\n"
     ]
    }
   ],
   "source": [
    "# Exiba o indice =>  .index\n",
    "print('\\n Indice:')\n",
    "print(srProfissoes.index)"
   ]
  },
  {
   "cell_type": "code",
   "execution_count": 5,
   "metadata": {},
   "outputs": [
    {
     "name": "stdout",
     "output_type": "stream",
     "text": [
      "\n",
      " Valores:\n",
      "['medico' 'professor' 'advogado' 'filosofo' 'professor' 'medico'\n",
      " 'dentista' 'professor' 'fisioterapeuta']\n"
     ]
    }
   ],
   "source": [
    "# Exiba os valores =>  .values\n",
    "print('\\n Valores:')\n",
    "print(srProfissoes.values)"
   ]
  },
  {
   "cell_type": "code",
   "execution_count": 6,
   "metadata": {},
   "outputs": [
    {
     "name": "stdout",
     "output_type": "stream",
     "text": [
      "\n",
      " Tamanho:\n",
      "9\n"
     ]
    }
   ],
   "source": [
    "# Exiba numero de elementos (tamanho) =>  .size\n",
    "print('\\n Tamanho:')\n",
    "print(srProfissoes.size)"
   ]
  },
  {
   "cell_type": "code",
   "execution_count": 7,
   "metadata": {},
   "outputs": [
    {
     "name": "stdout",
     "output_type": "stream",
     "text": [
      "\n",
      " Profissao do matt:\n",
      "professor\n",
      "\n",
      "Lista so com o matt\n",
      "matt    professor\n",
      "dtype: object\n"
     ]
    }
   ],
   "source": [
    "# Profissao de um individuo => .loc[indice]\n",
    "print('\\n Profissao do matt:')\n",
    "print(srProfissoes.loc['matt'])\n",
    "\n",
    "print('\\nLista so com o matt')\n",
    "print(srProfissoes.loc[['matt']])\n"
   ]
  },
  {
   "cell_type": "code",
   "execution_count": 8,
   "metadata": {},
   "outputs": [
    {
     "name": "stdout",
     "output_type": "stream",
     "text": [
      "\n",
      " Profissoes do yuki, deby e babi :\n",
      "yuki     advogado\n",
      "deby       medico\n",
      "babi    professor\n",
      "dtype: object\n"
     ]
    }
   ],
   "source": [
    "# Profissoes de varios individuos => .loc[[lista de indices]]\n",
    "print('\\n Profissoes do yuki, deby e babi :')\n",
    "print(srProfissoes.loc[['yuki','deby', 'babi']])"
   ]
  },
  {
   "cell_type": "code",
   "execution_count": 9,
   "metadata": {},
   "outputs": [
    {
     "name": "stdout",
     "output_type": "stream",
     "text": [
      "\n",
      " Profissoes dos 3 primeiros:\n",
      "tita       medico\n",
      "ludo    professor\n",
      "yuki     advogado\n",
      "dtype: object\n"
     ]
    }
   ],
   "source": [
    "# Profissoes dos 3 primeiros da series => .head()\n",
    "print('\\n Profissoes dos 3 primeiros:')\n",
    "print(srProfissoes.head(3))\n"
   ]
  },
  {
   "cell_type": "code",
   "execution_count": 10,
   "metadata": {},
   "outputs": [
    {
     "name": "stdout",
     "output_type": "stream",
     "text": [
      "\n",
      " Profissoes dos 6 ultimos:\n",
      "zeus          filosofo\n",
      "matt         professor\n",
      "deby            medico\n",
      "dave          dentista\n",
      "babi         professor\n",
      "lulu    fisioterapeuta\n",
      "dtype: object\n"
     ]
    }
   ],
   "source": [
    "# Profissoes dos 6 ultimos da series => .tail()\n",
    "print('\\n Profissoes dos 6 ultimos:')\n",
    "print(srProfissoes.tail(6))"
   ]
  },
  {
   "cell_type": "code",
   "execution_count": 11,
   "metadata": {},
   "outputs": [
    {
     "name": "stdout",
     "output_type": "stream",
     "text": [
      "\n",
      " Alterando lulu\n",
      "Antes: fisioterapeuta\n",
      "Antes: chef\n"
     ]
    }
   ],
   "source": [
    "# Alterar a profissao da lulu para 'chef' => .loc[] = ...\n",
    "# Exibir a profissao da lulu antes e depois da alteracao\n",
    "print('\\n Alterando lulu')\n",
    "print('Antes:',srProfissoes.loc['lulu'] )\n",
    "srProfissoes.loc['lulu']= 'chef'\n",
    "print('Antes:',srProfissoes.loc['lulu'] )"
   ]
  },
  {
   "cell_type": "code",
   "execution_count": 12,
   "metadata": {},
   "outputs": [
    {
     "name": "stdout",
     "output_type": "stream",
     "text": [
      "\n",
      " Incluindo ruan\n",
      "tita       medico\n",
      "ludo    professor\n",
      "yuki     advogado\n",
      "zeus     filosofo\n",
      "matt    professor\n",
      "deby       medico\n",
      "dave     dentista\n",
      "babi    professor\n",
      "lulu         chef\n",
      "ruan       medico\n",
      "dtype: object\n",
      "TAM: 10\n"
     ]
    }
   ],
   "source": [
    "#Incluir um novo elemento: ruan, medico => .loc[] = ...\n",
    "#Exibir a series depois da inclusao, assim como o seu tamanho\n",
    "print('\\n Incluindo ruan')\n",
    "srProfissoes.loc['ruan']= 'medico'\n",
    "print(srProfissoes)\n",
    "print('TAM:', srProfissoes.size)"
   ]
  },
  {
   "cell_type": "code",
   "execution_count": 13,
   "metadata": {},
   "outputs": [
    {
     "name": "stdout",
     "output_type": "stream",
     "text": [
      "\n",
      " Sem yuki, dave\n",
      "tita       medico\n",
      "ludo    professor\n",
      "zeus     filosofo\n",
      "matt    professor\n",
      "deby       medico\n",
      "babi    professor\n",
      "lulu         chef\n",
      "ruan       medico\n",
      "dtype: object\n"
     ]
    }
   ],
   "source": [
    "#Apenas exibir a series SEM  yuki, dave => .drop([lista de indices])\n",
    "print('\\n Sem yuki, dave')\n",
    "print(srProfissoes.drop([ 'yuki', 'dave'])) # COPIA DA SERIES"
   ]
  },
  {
   "cell_type": "code",
   "execution_count": 14,
   "metadata": {},
   "outputs": [
    {
     "name": "stdout",
     "output_type": "stream",
     "text": [
      "\n",
      " Series:\n",
      "tita       medico\n",
      "ludo    professor\n",
      "yuki     advogado\n",
      "zeus     filosofo\n",
      "matt    professor\n",
      "deby       medico\n",
      "dave     dentista\n",
      "babi    professor\n",
      "lulu         chef\n",
      "ruan       medico\n",
      "dtype: object\n"
     ]
    }
   ],
   "source": [
    "#Exibir a series srProfissoes \n",
    "print('\\n Series:')\n",
    "print(srProfissoes)"
   ]
  },
  {
   "cell_type": "code",
   "execution_count": 15,
   "metadata": {},
   "outputs": [],
   "source": [
    "#Eliminar da srProfissoes yuki e lulu => .drop([lista de indices], inplace=True)\n",
    "#Obs: inplace=True altera na própria series\n",
    "srProfissoes.drop([ 'yuki', 'lulu'], inplace=True)\n"
   ]
  },
  {
   "cell_type": "code",
   "execution_count": 16,
   "metadata": {},
   "outputs": [
    {
     "name": "stdout",
     "output_type": "stream",
     "text": [
      "\n",
      " Series atualizada:\n",
      "tita       medico\n",
      "ludo    professor\n",
      "zeus     filosofo\n",
      "matt    professor\n",
      "deby       medico\n",
      "dave     dentista\n",
      "babi    professor\n",
      "ruan       medico\n",
      "dtype: object\n",
      "TAM: 8\n"
     ]
    }
   ],
   "source": [
    "#Exibir a series srProfissoes atualizada  e o tamanho\n",
    "print('\\n Series atualizada:')\n",
    "print(srProfissoes)\n",
    "print('TAM:', srProfissoes.size)\n"
   ]
  },
  {
   "cell_type": "code",
   "execution_count": 17,
   "metadata": {},
   "outputs": [
    {
     "name": "stdout",
     "output_type": "stream",
     "text": [
      "\n",
      " Exibicao da Series ordenada por profissao:\n",
      "dave     dentista\n",
      "zeus     filosofo\n",
      "tita       medico\n",
      "deby       medico\n",
      "ruan       medico\n",
      "ludo    professor\n",
      "matt    professor\n",
      "babi    professor\n",
      "dtype: object\n"
     ]
    }
   ],
   "source": [
    "#Apenas exibir a series  srProfissoes ordenada por profissao (valores) => .sort_values()\n",
    "print('\\n Exibicao da Series ordenada por profissao:')\n",
    "print(srProfissoes.sort_values())"
   ]
  },
  {
   "cell_type": "code",
   "execution_count": 18,
   "metadata": {},
   "outputs": [
    {
     "name": "stdout",
     "output_type": "stream",
     "text": [
      "\n",
      " Series srProfissoes alterada (ordenada por indice) :\n",
      "babi    professor\n",
      "dave     dentista\n",
      "deby       medico\n",
      "ludo    professor\n",
      "matt    professor\n",
      "ruan       medico\n",
      "tita       medico\n",
      "zeus     filosofo\n",
      "dtype: object\n"
     ]
    }
   ],
   "source": [
    "#Ordenar a series pelo nome das pessoas => .sort_index(inplace=True)\n",
    "#Depois exibir a series alterada\n",
    "print('\\n Series srProfissoes alterada (ordenada por indice) :' )\n",
    "srProfissoes.sort_index(inplace=True)\n",
    "print(srProfissoes)"
   ]
  },
  {
   "cell_type": "markdown",
   "metadata": {},
   "source": [
    "-----------------"
   ]
  },
  {
   "cell_type": "markdown",
   "metadata": {},
   "source": [
    "## Parte 2\n",
    "\n",
    "A partir das listas ```lpessoas``` e ```lidades``` crie a series ```srIdades``` em os valores devem ser as idades e os indices os nomes das pessoas\n",
    "\n",
    "**Exiba devidamente identificados:**\n",
    "\n",
    "- a series\n",
    "- os indices\n",
    "- os valores\n",
    "- a idade da tita\n",
    "- os 3 ultimos elementos\n",
    "- os 7 primeiros elementos da series, ordenados pela idade (nao alterar a series)\n",
    "- os 3 primeiros mais novos\n",
    "- a series original sem a babi (nao alterar)\n"
   ]
  },
  {
   "cell_type": "code",
   "execution_count": 19,
   "metadata": {},
   "outputs": [
    {
     "name": "stdout",
     "output_type": "stream",
     "text": [
      "Series: \n"
     ]
    },
    {
     "data": {
      "text/plain": [
       "tita    45\n",
       "ludo    30\n",
       "yuki    67\n",
       "zeus    37\n",
       "matt    26\n",
       "deby    58\n",
       "dave    43\n",
       "babi    38\n",
       "lulu    29\n",
       "dtype: int64"
      ]
     },
     "execution_count": 19,
     "metadata": {},
     "output_type": "execute_result"
    }
   ],
   "source": [
    "\n",
    "srIdades = pd.Series(lidades, index=lpessoas)\n",
    "\n",
    "print('Series: ')\n",
    "srIdades"
   ]
  },
  {
   "cell_type": "code",
   "execution_count": 20,
   "metadata": {},
   "outputs": [
    {
     "name": "stdout",
     "output_type": "stream",
     "text": [
      "Index: \n"
     ]
    },
    {
     "data": {
      "text/plain": [
       "Index(['tita', 'ludo', 'yuki', 'zeus', 'matt', 'deby', 'dave', 'babi', 'lulu'], dtype='object')"
      ]
     },
     "execution_count": 20,
     "metadata": {},
     "output_type": "execute_result"
    }
   ],
   "source": [
    "print(\"Index: \")\n",
    "srIdades.index"
   ]
  },
  {
   "cell_type": "code",
   "execution_count": 21,
   "metadata": {},
   "outputs": [
    {
     "name": "stdout",
     "output_type": "stream",
     "text": [
      "Values: \n"
     ]
    },
    {
     "data": {
      "text/plain": [
       "array([45, 30, 67, 37, 26, 58, 43, 38, 29], dtype=int64)"
      ]
     },
     "execution_count": 21,
     "metadata": {},
     "output_type": "execute_result"
    }
   ],
   "source": [
    "print(\"Values: \")\n",
    "srIdades.values"
   ]
  },
  {
   "cell_type": "code",
   "execution_count": 22,
   "metadata": {},
   "outputs": [
    {
     "name": "stdout",
     "output_type": "stream",
     "text": [
      "Idade de tita: \n"
     ]
    },
    {
     "data": {
      "text/plain": [
       "45"
      ]
     },
     "execution_count": 22,
     "metadata": {},
     "output_type": "execute_result"
    }
   ],
   "source": [
    "print('Idade de tita: ')\n",
    "srIdades.loc['tita']"
   ]
  },
  {
   "cell_type": "code",
   "execution_count": 23,
   "metadata": {},
   "outputs": [
    {
     "name": "stdout",
     "output_type": "stream",
     "text": [
      "Tres ultimos elementos: \n"
     ]
    },
    {
     "data": {
      "text/plain": [
       "dave    43\n",
       "babi    38\n",
       "lulu    29\n",
       "dtype: int64"
      ]
     },
     "execution_count": 23,
     "metadata": {},
     "output_type": "execute_result"
    }
   ],
   "source": [
    "print('Tres ultimos elementos: ')\n",
    "srIdades.tail(3)"
   ]
  },
  {
   "cell_type": "code",
   "execution_count": 24,
   "metadata": {},
   "outputs": [
    {
     "name": "stdout",
     "output_type": "stream",
     "text": [
      "os 7 primeiros elementos da series, ordenados pela idade (nao alterar a series)\n"
     ]
    },
    {
     "data": {
      "text/plain": [
       "matt    26\n",
       "ludo    30\n",
       "zeus    37\n",
       "dave    43\n",
       "tita    45\n",
       "deby    58\n",
       "yuki    67\n",
       "dtype: int64"
      ]
     },
     "execution_count": 24,
     "metadata": {},
     "output_type": "execute_result"
    }
   ],
   "source": [
    "print('os 7 primeiros elementos da series, ordenados pela idade (nao alterar a series)')\n",
    "srIdades.head(7).sort_values()"
   ]
  },
  {
   "cell_type": "code",
   "execution_count": 25,
   "metadata": {},
   "outputs": [
    {
     "name": "stdout",
     "output_type": "stream",
     "text": [
      "Os 3 primeiros mais novos: \n"
     ]
    },
    {
     "data": {
      "text/plain": [
       "matt    26\n",
       "lulu    29\n",
       "ludo    30\n",
       "dtype: int64"
      ]
     },
     "execution_count": 25,
     "metadata": {},
     "output_type": "execute_result"
    }
   ],
   "source": [
    "print('Os 3 primeiros mais novos: ')\n",
    "srIdades.sort_values().head(3)"
   ]
  },
  {
   "cell_type": "code",
   "execution_count": 26,
   "metadata": {},
   "outputs": [
    {
     "name": "stdout",
     "output_type": "stream",
     "text": [
      "Series sem babi\n"
     ]
    },
    {
     "data": {
      "text/plain": [
       "tita    45\n",
       "ludo    30\n",
       "yuki    67\n",
       "zeus    37\n",
       "matt    26\n",
       "deby    58\n",
       "dave    43\n",
       "lulu    29\n",
       "dtype: int64"
      ]
     },
     "execution_count": 26,
     "metadata": {},
     "output_type": "execute_result"
    }
   ],
   "source": [
    "print('Series sem babi')\n",
    "\n",
    "srIdades.drop('babi')"
   ]
  },
  {
   "cell_type": "markdown",
   "metadata": {},
   "source": [
    "--------------"
   ]
  },
  {
   "cell_type": "markdown",
   "metadata": {},
   "source": [
    "## Parte 3"
   ]
  },
  {
   "cell_type": "markdown",
   "metadata": {},
   "source": [
    "**Trabalhando com uma series criada a partir de um arquivo excel:**\n",
    "- arquivo comprasabril.xlsx: com as compras feitas pelos clientes \n",
    "- em uma determinada loja no mes de abril\n",
    "- O arquivo deve estar na mesma pasta que o .py\n",
    "- Coluna 0 servira de indice (index_col=0)\n",
    "- O arquivo tem linha de cabecalho (header=0)"
   ]
  },
  {
   "cell_type": "code",
   "execution_count": 27,
   "metadata": {},
   "outputs": [
    {
     "data": {
      "text/plain": [
       "CLIENTE\n",
       "emma    250.60\n",
       "nena    120.40\n",
       "pepe     45.00\n",
       "vava     65.00\n",
       "emma     22.00\n",
       "dudu     43.65\n",
       "kadu    188.00\n",
       "zizi     98.00\n",
       "nena     54.00\n",
       "emma     66.00\n",
       "pepe     88.00\n",
       "tati       NaN\n",
       "tati    127.00\n",
       "dede    275.00\n",
       "vava    112.00\n",
       "emma    172.00\n",
       "pepe     55.00\n",
       "tati     69.00\n",
       "kuka       NaN\n",
       "Name: COMPRA, dtype: float64"
      ]
     },
     "execution_count": 27,
     "metadata": {},
     "output_type": "execute_result"
    }
   ],
   "source": [
    "srClientes = pd.read_excel('../db/comprasabril.xlsx', index_col=0, header=0).squeeze('columns')\n",
    "\n",
    "srClientes"
   ]
  },
  {
   "cell_type": "code",
   "execution_count": 28,
   "metadata": {},
   "outputs": [
    {
     "name": "stdout",
     "output_type": "stream",
     "text": [
      "Index: \n"
     ]
    },
    {
     "data": {
      "text/plain": [
       "Index(['emma', 'nena', 'pepe', 'vava', 'emma', 'dudu', 'kadu', 'zizi', 'nena',\n",
       "       'emma', 'pepe', 'tati', 'tati', 'dede', 'vava', 'emma', 'pepe', 'tati',\n",
       "       'kuka'],\n",
       "      dtype='object', name='CLIENTE')"
      ]
     },
     "execution_count": 28,
     "metadata": {},
     "output_type": "execute_result"
    }
   ],
   "source": [
    "print(\"Index: \")\n",
    "srClientes.index"
   ]
  },
  {
   "cell_type": "code",
   "execution_count": 29,
   "metadata": {},
   "outputs": [
    {
     "name": "stdout",
     "output_type": "stream",
     "text": [
      "Values: \n"
     ]
    },
    {
     "data": {
      "text/plain": [
       "array([250.6 , 120.4 ,  45.  ,  65.  ,  22.  ,  43.65, 188.  ,  98.  ,\n",
       "        54.  ,  66.  ,  88.  ,    nan, 127.  , 275.  , 112.  , 172.  ,\n",
       "        55.  ,  69.  ,    nan])"
      ]
     },
     "execution_count": 29,
     "metadata": {},
     "output_type": "execute_result"
    }
   ],
   "source": [
    "print('Values: ')\n",
    "srClientes.values"
   ]
  },
  {
   "cell_type": "code",
   "execution_count": 30,
   "metadata": {},
   "outputs": [
    {
     "name": "stdout",
     "output_type": "stream",
     "text": [
      "Compras da emma: \n"
     ]
    },
    {
     "data": {
      "text/plain": [
       "CLIENTE\n",
       "emma    250.6\n",
       "emma     22.0\n",
       "emma     66.0\n",
       "emma    172.0\n",
       "Name: COMPRA, dtype: float64"
      ]
     },
     "execution_count": 30,
     "metadata": {},
     "output_type": "execute_result"
    }
   ],
   "source": [
    "print('Compras da emma: ')\n",
    "srClientes.loc['emma']"
   ]
  },
  {
   "cell_type": "code",
   "execution_count": 31,
   "metadata": {},
   "outputs": [
    {
     "name": "stdout",
     "output_type": "stream",
     "text": [
      "Compras da vava e nena: \n"
     ]
    },
    {
     "data": {
      "text/plain": [
       "CLIENTE\n",
       "vava     65.0\n",
       "vava    112.0\n",
       "nena    120.4\n",
       "nena     54.0\n",
       "Name: COMPRA, dtype: float64"
      ]
     },
     "execution_count": 31,
     "metadata": {},
     "output_type": "execute_result"
    }
   ],
   "source": [
    "print('Compras da vava e nena: ')\n",
    "srClientes.loc[['vava', 'nena']]"
   ]
  },
  {
   "cell_type": "code",
   "execution_count": 32,
   "metadata": {},
   "outputs": [
    {
     "name": "stdout",
     "output_type": "stream",
     "text": [
      "Series sem NaN: \n"
     ]
    },
    {
     "data": {
      "text/plain": [
       "CLIENTE\n",
       "emma    250.60\n",
       "nena    120.40\n",
       "pepe     45.00\n",
       "vava     65.00\n",
       "emma     22.00\n",
       "dudu     43.65\n",
       "kadu    188.00\n",
       "zizi     98.00\n",
       "nena     54.00\n",
       "emma     66.00\n",
       "pepe     88.00\n",
       "tati    127.00\n",
       "dede    275.00\n",
       "vava    112.00\n",
       "emma    172.00\n",
       "pepe     55.00\n",
       "tati     69.00\n",
       "Name: COMPRA, dtype: float64"
      ]
     },
     "execution_count": 32,
     "metadata": {},
     "output_type": "execute_result"
    }
   ],
   "source": [
    "print('Series sem NaN: ')\n",
    "srClientes.dropna()"
   ]
  },
  {
   "cell_type": "code",
   "execution_count": 33,
   "metadata": {},
   "outputs": [
    {
     "name": "stdout",
     "output_type": "stream",
     "text": [
      "Series ordenada: \n"
     ]
    },
    {
     "data": {
      "text/plain": [
       "CLIENTE\n",
       "emma     22.00\n",
       "dudu     43.65\n",
       "pepe     45.00\n",
       "nena     54.00\n",
       "pepe     55.00\n",
       "vava     65.00\n",
       "emma     66.00\n",
       "tati     69.00\n",
       "pepe     88.00\n",
       "zizi     98.00\n",
       "vava    112.00\n",
       "nena    120.40\n",
       "tati    127.00\n",
       "emma    172.00\n",
       "kadu    188.00\n",
       "emma    250.60\n",
       "dede    275.00\n",
       "tati       NaN\n",
       "kuka       NaN\n",
       "Name: COMPRA, dtype: float64"
      ]
     },
     "execution_count": 33,
     "metadata": {},
     "output_type": "execute_result"
    }
   ],
   "source": [
    "print('Series ordenada: ')\n",
    "\n",
    "srClientes = srClientes.sort_values()\n",
    "srClientes"
   ]
  },
  {
   "cell_type": "code",
   "execution_count": 34,
   "metadata": {},
   "outputs": [
    {
     "name": "stdout",
     "output_type": "stream",
     "text": [
      "Pessoas com compras mais caras: \n"
     ]
    },
    {
     "data": {
      "text/plain": [
       "Index(['zizi', 'vava', 'nena', 'tati', 'emma', 'kadu', 'emma', 'dede', 'tati',\n",
       "       'kuka'],\n",
       "      dtype='object', name='CLIENTE')"
      ]
     },
     "execution_count": 34,
     "metadata": {},
     "output_type": "execute_result"
    }
   ],
   "source": [
    "print('Pessoas com compras mais caras: ')\n",
    "\n",
    "srClientes.tail(10).index"
   ]
  },
  {
   "cell_type": "markdown",
   "metadata": {},
   "source": [
    "### Complemento"
   ]
  },
  {
   "cell_type": "code",
   "execution_count": 35,
   "metadata": {},
   "outputs": [
    {
     "name": "stdout",
     "output_type": "stream",
     "text": [
      "\n",
      "Qual a idade máxima?\n",
      "67\n"
     ]
    }
   ],
   "source": [
    "print('\\nQual a idade máxima?')\n",
    "print(srIdades.max())"
   ]
  },
  {
   "cell_type": "code",
   "execution_count": 36,
   "metadata": {},
   "outputs": [
    {
     "name": "stdout",
     "output_type": "stream",
     "text": [
      "\n",
      "Qual a idade mínima?\n",
      "26\n"
     ]
    }
   ],
   "source": [
    "print('\\nQual a idade mínima?')\n",
    "print(srIdades.min())"
   ]
  },
  {
   "cell_type": "code",
   "execution_count": 37,
   "metadata": {},
   "outputs": [
    {
     "name": "stdout",
     "output_type": "stream",
     "text": [
      "\n",
      "Qual média das idades?\n",
      "41.44444444444444\n"
     ]
    }
   ],
   "source": [
    "print('\\nQual média das idades?')\n",
    "print(srIdades.mean())"
   ]
  },
  {
   "cell_type": "code",
   "execution_count": 38,
   "metadata": {},
   "outputs": [
    {
     "name": "stdout",
     "output_type": "stream",
     "text": [
      "\n",
      "Qual a mediana das idades?\n",
      "38.0\n"
     ]
    }
   ],
   "source": [
    "print('\\nQual a mediana das idades?')\n",
    "print(srIdades.median())"
   ]
  },
  {
   "cell_type": "code",
   "execution_count": 39,
   "metadata": {},
   "outputs": [
    {
     "name": "stdout",
     "output_type": "stream",
     "text": [
      "\n",
      "Idade minima: 26\n",
      "\n",
      "Um indivíduo com a idade minima? matt\n",
      "\n",
      "Idade maxima: 67\n",
      "\n",
      "Um indivíduo com a idade maxima? yuki\n"
     ]
    }
   ],
   "source": [
    "print('\\nIdade minima:',srIdades.min() )\n",
    "print('\\nUm indivíduo com a idade minima?',srIdades.idxmin() ) # -> index cujo value é minimo\n",
    "print('\\nIdade maxima:',srIdades.max())\n",
    "print('\\nUm indivíduo com a idade maxima?',srIdades.idxmax() )"
   ]
  },
  {
   "cell_type": "code",
   "execution_count": 40,
   "metadata": {},
   "outputs": [
    {
     "name": "stdout",
     "output_type": "stream",
     "text": [
      "\n",
      "Tabela de Frequencia das idades\n",
      "45    1\n",
      "30    1\n",
      "67    1\n",
      "37    1\n",
      "26    1\n",
      "58    1\n",
      "43    1\n",
      "38    1\n",
      "29    1\n",
      "dtype: int64\n"
     ]
    }
   ],
   "source": [
    "print('\\nTabela de Frequencia das idades') # Nao fica interessante\n",
    "print(srIdades.value_counts())"
   ]
  },
  {
   "cell_type": "code",
   "execution_count": 41,
   "metadata": {},
   "outputs": [
    {
     "name": "stdout",
     "output_type": "stream",
     "text": [
      "\n",
      "Criando 3 categorias\n",
      "tita    medio\n",
      "ludo     novo\n",
      "yuki    velho\n",
      "zeus     novo\n",
      "matt     novo\n",
      "deby    velho\n",
      "dave    medio\n",
      "babi     novo\n",
      "lulu     novo\n",
      "dtype: category\n",
      "Categories (3, object): ['novo' < 'medio' < 'velho']\n"
     ]
    }
   ],
   "source": [
    "# Criando categorias de idades => método pd.cut()\n",
    "print('\\nCriando 3 categorias')\n",
    "srCat1= pd.cut(srIdades, bins=3 , labels=['novo', 'medio', 'velho']) # -> podemos passar uma lista também\n",
    "print(srCat1)"
   ]
  },
  {
   "cell_type": "code",
   "execution_count": 42,
   "metadata": {},
   "outputs": [
    {
     "name": "stdout",
     "output_type": "stream",
     "text": [
      "\n",
      "Criando 3 categorias com extremos definidos\n",
      "tita    (30, 55]\n",
      "ludo     (0, 30]\n",
      "yuki    (55, 67]\n",
      "zeus    (30, 55]\n",
      "matt     (0, 30]\n",
      "deby    (55, 67]\n",
      "dave    (30, 55]\n",
      "babi    (30, 55]\n",
      "lulu     (0, 30]\n",
      "dtype: category\n",
      "Categories (3, interval[int64, right]): [(0, 30] < (30, 55] < (55, 67]]\n"
     ]
    }
   ],
   "source": [
    "print('\\nCriando 3 categorias com extremos definidos')\n",
    "srCat2= pd.cut(srIdades, bins=[0,30,55,srIdades.max()])\n",
    "print(srCat2)"
   ]
  },
  {
   "cell_type": "code",
   "execution_count": 43,
   "metadata": {},
   "outputs": [
    {
     "name": "stdout",
     "output_type": "stream",
     "text": [
      "\n",
      "Quantos indivíduos em cada categoria?\n",
      "(30, 55]    4\n",
      "(0, 30]     3\n",
      "(55, 67]    2\n",
      "dtype: int64\n"
     ]
    }
   ],
   "source": [
    "print('\\nQuantos indivíduos em cada categoria?')\n",
    "print(srCat2.value_counts())"
   ]
  },
  {
   "cell_type": "code",
   "execution_count": 44,
   "metadata": {},
   "outputs": [
    {
     "name": "stdout",
     "output_type": "stream",
     "text": [
      "\n",
      "Criando 3 categorias com extremos definidos, ROTULADAS\n",
      "tita    EXPERIENTE\n",
      "ludo        JUNIOR\n",
      "yuki        SENIOR\n",
      "zeus    EXPERIENTE\n",
      "matt        JUNIOR\n",
      "deby        SENIOR\n",
      "dave    EXPERIENTE\n",
      "babi    EXPERIENTE\n",
      "lulu        JUNIOR\n",
      "dtype: category\n",
      "Categories (3, object): ['JUNIOR' < 'EXPERIENTE' < 'SENIOR']\n"
     ]
    }
   ],
   "source": [
    "print('\\nCriando 3 categorias com extremos definidos, ROTULADAS')\n",
    "srCat3= pd.cut(srIdades, bins=[0,30,55,srIdades.max()] ,\n",
    "               labels=['JUNIOR','EXPERIENTE','SENIOR'])\n",
    "print(srCat3)\n"
   ]
  },
  {
   "cell_type": "code",
   "execution_count": 45,
   "metadata": {},
   "outputs": [
    {
     "name": "stdout",
     "output_type": "stream",
     "text": [
      "\n",
      "Tabela de Freq das categorias\n",
      "EXPERIENTE    4\n",
      "JUNIOR        3\n",
      "SENIOR        2\n",
      "dtype: int64\n"
     ]
    }
   ],
   "source": [
    "print('\\nTabela de Freq das categorias')\n",
    "srTabFreqCatId= srCat3.value_counts()\n",
    "print(srTabFreqCatId)"
   ]
  },
  {
   "cell_type": "markdown",
   "metadata": {},
   "source": [
    "## Gráficos"
   ]
  },
  {
   "cell_type": "code",
   "execution_count": 46,
   "metadata": {},
   "outputs": [
    {
     "name": "stdout",
     "output_type": "stream",
     "text": [
      "\n",
      "Series considerada:\n",
      "tita    45\n",
      "ludo    30\n",
      "yuki    67\n",
      "zeus    37\n",
      "matt    26\n",
      "deby    58\n",
      "dave    43\n",
      "babi    38\n",
      "lulu    29\n",
      "dtype: int64\n"
     ]
    }
   ],
   "source": [
    "# Visualizacao da Parte2\n",
    "print('\\nSeries considerada:')\n",
    "print(srIdades)\n"
   ]
  },
  {
   "cell_type": "code",
   "execution_count": 47,
   "metadata": {},
   "outputs": [
    {
     "name": "stdout",
     "output_type": "stream",
     "text": [
      "\n",
      "Grafico de Barras\n"
     ]
    },
    {
     "data": {
      "image/png": "[encoded data removed]",
      "text/plain": [
       "<Figure size 360x216 with 1 Axes>"
      ]
     },
     "metadata": {
      "needs_background": "light"
     },
     "output_type": "display_data"
    }
   ],
   "source": [
    "print('\\nGrafico de Barras')\n",
    "srIdades.plot.bar(title='Idades',\n",
    "                  figsize=(5,3),\n",
    "                  color=['blue','orange','red'])\n",
    "plt.show()"
   ]
  },
  {
   "cell_type": "code",
   "execution_count": 48,
   "metadata": {},
   "outputs": [
    {
     "data": {
      "image/png": "[encoded data removed]",
      "text/plain": [
       "<Figure size 432x288 with 1 Axes>"
      ]
     },
     "metadata": {
      "needs_background": "light"
     },
     "output_type": "display_data"
    }
   ],
   "source": [
    "srIdades.plot.barh()\n",
    "plt.show()"
   ]
  },
  {
   "cell_type": "code",
   "execution_count": 49,
   "metadata": {},
   "outputs": [
    {
     "name": "stdout",
     "output_type": "stream",
     "text": [
      "\n",
      "Grafico de Pizza da Tab de Freq Percentual de categorias de idade\n"
     ]
    },
    {
     "data": {
      "image/png": "[encoded data removed]",
      "text/plain": [
       "<Figure size 432x288 with 1 Axes>"
      ]
     },
     "metadata": {},
     "output_type": "display_data"
    }
   ],
   "source": [
    "print('\\nGrafico de Pizza da Tab de Freq Percentual de categorias de idade')\n",
    "srTabFreqCatId.plot.pie(title= 'Tab Perc de Cat de Idades',\n",
    "                        autopct='%.1f')\n",
    "plt.show()\n"
   ]
  },
  {
   "cell_type": "markdown",
   "metadata": {},
   "source": [
    "## Parte 3"
   ]
  },
  {
   "cell_type": "code",
   "execution_count": 50,
   "metadata": {},
   "outputs": [
    {
     "name": "stdout",
     "output_type": "stream",
     "text": [
      "\n",
      " srClientes\n",
      "CLIENTE\n",
      "emma    250.60\n",
      "nena    120.40\n",
      "pepe     45.00\n",
      "vava     65.00\n",
      "emma     22.00\n",
      "dudu     43.65\n",
      "kadu    188.00\n",
      "zizi     98.00\n",
      "nena     54.00\n",
      "emma     66.00\n",
      "pepe     88.00\n",
      "tati       NaN\n",
      "tati    127.00\n",
      "dede    275.00\n",
      "vava    112.00\n",
      "emma    172.00\n",
      "pepe     55.00\n",
      "tati     69.00\n",
      "kuka       NaN\n",
      "Name: COMPRA, dtype: float64\n"
     ]
    }
   ],
   "source": [
    "srClientes = pd.read_excel('../db/comprasabril.xlsx', index_col=0, header=0) \\\n",
    "    .squeeze('columns')\n",
    "print('\\n srClientes')\n",
    "print(srClientes)\n"
   ]
  },
  {
   "cell_type": "code",
   "execution_count": 56,
   "metadata": {},
   "outputs": [
    {
     "name": "stdout",
     "output_type": "stream",
     "text": [
      "\n",
      "Quais são os clientes distintos?\n",
      "CLIENTE\n",
      "emma    250.60\n",
      "emma     22.00\n",
      "emma     66.00\n",
      "emma    172.00\n",
      "nena    120.40\n",
      "nena     54.00\n",
      "pepe     45.00\n",
      "pepe     88.00\n",
      "pepe     55.00\n",
      "vava     65.00\n",
      "vava    112.00\n",
      "dudu     43.65\n",
      "kadu    188.00\n",
      "zizi     98.00\n",
      "tati       NaN\n",
      "tati    127.00\n",
      "tati     69.00\n",
      "dede    275.00\n",
      "Name: COMPRA, dtype: float64\n"
     ]
    }
   ],
   "source": [
    "\n",
    "print('\\nQuais são os clientes distintos?')\n",
    "print(srClientes.dropna().index.unique().values)"
   ]
  }
 ],
 "metadata": {
  "kernelspec": {
   "display_name": "Python 3.10.7 64-bit (microsoft store)",
   "language": "python",
   "name": "python3"
  },
  "language_info": {
   "codemirror_mode": {
    "name": "ipython",
    "version": 3
   },
   "file_extension": ".py",
   "mimetype": "text/x-python",
   "name": "python",
   "nbconvert_exporter": "python",
   "pygments_lexer": "ipython3",
   "version": "3.10.8"
  },
  "orig_nbformat": 4,
  "vscode": {
   "interpreter": {
    "hash": "fe4d3f4c05f2c883158edf770b9077c24343565c211ea6cbc9a05047856726ec"
   }
  }
 },
 "nbformat": 4,
 "nbformat_minor": 2
}
